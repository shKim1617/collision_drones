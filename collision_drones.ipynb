{
 "cells": [
  {
   "cell_type": "code",
   "execution_count": 7,
   "metadata": {},
   "outputs": [],
   "source": [
    "from drone_class import create_drones\n",
    "import matplotlib.pyplot as plt\n",
    "from matplotlib.animation import FuncAnimation\n",
    "import keyboard\n",
    "import numpy as np"
   ]
  },
  {
   "cell_type": "code",
   "execution_count": 5,
   "metadata": {},
   "outputs": [],
   "source": [
    "leader, follows = create_drones(1)"
   ]
  },
  {
   "cell_type": "code",
   "execution_count": 6,
   "metadata": {},
   "outputs": [
    {
     "data": {
      "text/plain": [
       "(0, array([0., 0.], dtype=float32), array([1., 0.], dtype=float32))"
      ]
     },
     "execution_count": 6,
     "metadata": {},
     "output_type": "execute_result"
    }
   ],
   "source": [
    "leader.get_state()"
   ]
  },
  {
   "cell_type": "code",
   "execution_count": null,
   "metadata": {},
   "outputs": [],
   "source": [
    "def control_direction():\n",
    "    if keyboard.is_pressed('q'):\n",
    "        leader.rotate_heading(-np.pi/18)\n",
    "    elif keyboard.is_pressed('e'):\n",
    "        leader.rotate_heading(np.pi/18)\n",
    "    \n",
    "# 나중에 이 함수를 와일로 돌리고\n",
    "# 와일의 종료 조건을 esc로 달아"
   ]
  },
  {
   "cell_type": "code",
   "execution_count": null,
   "metadata": {},
   "outputs": [],
   "source": [
    "def animate(frame):\n",
    "    global obs, env\n",
    "\n",
    "    action, _ = loaded_model.predict(obs, deterministic=True)\n",
    "    obs, rewards, terminated, truncated, info = env.step(action)\n",
    "    \n",
    "    # 이전 그래픽 지우기\n",
    "    plt.cla()\n",
    "\n",
    "    # 드론 위치 다시 그리기\n",
    "    # 리더\n",
    "    plt.scatter(env.leader.position[0], env.leader.position[1], color='red', label='Leader')\n",
    "    # 팔로워1\n",
    "    plt.scatter(env.follows[0].position[0], env.follows[0].position[1], color='blue', label='Follower 1')\n",
    "    plt.scatter(env.follows[0].target_position[0], env.follows[0].target_position[1], color='black', label='target_position1')\n",
    "    # 팔로워2\n",
    "    plt.scatter(env.follows[1].position[0], env.follows[1].position[1], color='green', label='Follower 2')\n",
    "    plt.scatter(env.follows[1].target_position[0], env.follows[1].target_position[1], color='black', label='target_position2')\n",
    "\n",
    "    # 포메이션 라인 그리기\n",
    "    plt.plot([env.leader.position[0], env.follows[0].position[0]], [env.leader.position[1], env.follows[0].position[1]], 'b--')\n",
    "    plt.plot([env.leader.position[0], env.follows[1].position[0]], [env.leader.position[1], env.follows[1].position[1]], 'g--')\n",
    "\n",
    "    # 리더 방향 화살표로 그리기\n",
    "    plt.quiver(env.leader.position[0], env.leader.position[1], env.leader.direction[0], env.leader.direction[1], color='red', scale=10)\n",
    "\n",
    "    # 각 드론의 속도 계산 (속도는 벡터 크기)\n",
    "    leader_speed = np.linalg.norm(env.leader.direction * env.leader_velocity)\n",
    "    follower1_speed = np.linalg.norm(action[:2])\n",
    "    follower2_speed = np.linalg.norm(action[2:])\n",
    "\n",
    "    # 드론들의 속도를 텍스트로 표시\n",
    "    plt.text(env.leader.position[0], env.leader.position[1] + 1, f\"Speed: {leader_speed:.2f}\", color='red')\n",
    "    plt.text(env.follows[0].position[0], env.follows[0].position[1] + 1, f\"Speed: {follower1_speed:.2f}\", color='blue')\n",
    "    plt.text(env.follows[1].position[0], env.follows[1].position[1] + 1, f\"Speed: {follower2_speed:.2f}\", color='green')\n",
    "    \n",
    "    # 충돌\n",
    "    if terminated:\n",
    "        print(\"충돌발생!!!!!!!!!!!!\")\n",
    "\n",
    "    # 그래프 설정\n",
    "    preset = 20\n",
    "    plt.xlim(env.leader.position[0] - preset, env.leader.position[0] + preset)\n",
    "    plt.ylim(env.leader.position[1] - preset, env.leader.position[1] + preset)\n",
    "    plt.title(\"Drone Formation Movement with Orientation\")\n",
    "    plt.xlabel(\"X position\")\n",
    "    plt.ylabel(\"Y position\")\n",
    "    plt.legend()\n",
    "    plt.grid(True)"
   ]
  }
 ],
 "metadata": {
  "kernelspec": {
   "display_name": "Python 3",
   "language": "python",
   "name": "python3"
  },
  "language_info": {
   "codemirror_mode": {
    "name": "ipython",
    "version": 3
   },
   "file_extension": ".py",
   "mimetype": "text/x-python",
   "name": "python",
   "nbconvert_exporter": "python",
   "pygments_lexer": "ipython3",
   "version": "3.10.12"
  }
 },
 "nbformat": 4,
 "nbformat_minor": 2
}
